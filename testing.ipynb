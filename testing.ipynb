{
 "cells": [
  {
   "cell_type": "code",
   "execution_count": null,
   "metadata": {},
   "outputs": [],
   "source": [
    "import requests\n",
    "import pandas as pd\n",
    "import csv\n",
    "import matplotlib.pyplot as plt\n",
    "from selenium import webdriver\n",
    "from selenium.webdriver.common.by import By\n",
    "from datetime import date"
   ]
  },
  {
   "cell_type": "markdown",
   "metadata": {},
   "source": [
    "# Build URL variables for web scraping"
   ]
  },
  {
   "cell_type": "code",
   "execution_count": null,
   "metadata": {},
   "outputs": [],
   "source": [
    "affRefiURL = \"https://www.affinityplus.org/rates/mortgage-rates\"\n",
    "rmRefiURL = \"https://www.rocketmortgage.com/refinance-rates\"\n",
    "blazeRefiURL = \"https://blazecu.com/personal/borrow/mortgage/mortgage-refinance\"\n",
    "magnifiRefiURL = \"https://mymagnifi.org/rates/rates-mortgages.html\""
   ]
  },
  {
   "cell_type": "code",
   "execution_count": null,
   "metadata": {},
   "outputs": [],
   "source": [
    "# Initialize Chrome webdriver\n",
    "chrome = webdriver.Chrome()"
   ]
  },
  {
   "cell_type": "code",
   "execution_count": null,
   "metadata": {},
   "outputs": [],
   "source": [
    "#1 Get Affinity 30 year refi rate\n",
    "chrome.get(affRefiURL)\n",
    "rates = chrome.find_element(By.CLASS_NAME, \"ratesTable\")\n",
    "rates_list = rates.text.split(\"\\n\")\n",
    "refi_aff = rates_list[23:29]\n",
    "aff30refi = refi_aff[2].split(\" \")[0]"
   ]
  },
  {
   "cell_type": "code",
   "execution_count": null,
   "metadata": {},
   "outputs": [],
   "source": [
    "#2 Get Rocket Mortgage 30 year refi rate\n",
    "chrome.get(rmRefiURL)"
   ]
  },
  {
   "cell_type": "code",
   "execution_count": null,
   "metadata": {},
   "outputs": [],
   "source": [
    "rkt_rates = chrome.find_elements(By.CLASS_NAME, \"rkt-Heading-24\")"
   ]
  },
  {
   "cell_type": "code",
   "execution_count": null,
   "metadata": {},
   "outputs": [],
   "source": [
    "rkt_rates"
   ]
  },
  {
   "cell_type": "code",
   "execution_count": null,
   "metadata": {},
   "outputs": [],
   "source": [
    "rkt_rates[1].text"
   ]
  },
  {
   "cell_type": "code",
   "execution_count": null,
   "metadata": {},
   "outputs": [],
   "source": [
    "rktRates = rkt_rates.text.split(\"\\n\")\n",
    "rktRefiRate = rktRates[1]"
   ]
  },
  {
   "cell_type": "code",
   "execution_count": null,
   "metadata": {},
   "outputs": [],
   "source": [
    "#3 Get Blaze 30 year refi rate\n",
    "chrome.get(blazeRefiURL)\n",
    "blazeRates = chrome.find_element(By.CLASS_NAME, \"rates-grid\")\n",
    "blaze30Refi = blazeRates.text.split(\"\\n\")[-2:-1]\n",
    "blaze30Refi_rate = blaze30Refi[0].split(\" \")[4]\n"
   ]
  },
  {
   "cell_type": "code",
   "execution_count": null,
   "metadata": {},
   "outputs": [],
   "source": [
    "#4 Get Magnifi 30 year refi rate\n",
    "chrome.get(magnifiRefiURL)\n",
    "magnifi = chrome.find_element(By.CLASS_NAME, \"table-responsive\")\n",
    "magnifi30Refi = magnifi.text.split(\"\\n\")[4].split(\" \")[-1:][0]"
   ]
  },
  {
   "cell_type": "code",
   "execution_count": null,
   "metadata": {},
   "outputs": [],
   "source": [
    "# Get today's date\n",
    "rateDate = date.today().strftime(\"%m/%d/%Y\")"
   ]
  },
  {
   "cell_type": "code",
   "execution_count": null,
   "metadata": {},
   "outputs": [],
   "source": [
    "rates = [rateDate, aff30refi, rktRefiRate, blaze30Refi_rate, magnifi30Refi]"
   ]
  },
  {
   "cell_type": "code",
   "execution_count": null,
   "metadata": {},
   "outputs": [],
   "source": [
    "with open(\"rates.csv\", \"a\", newline = '') as file:\n",
    "    writer = csv.writer(file, delimiter = ',')\n",
    "    writer.writerow(rates)\n"
   ]
  },
  {
   "cell_type": "code",
   "execution_count": null,
   "metadata": {},
   "outputs": [],
   "source": [
    "chrome.close()"
   ]
  },
  {
   "cell_type": "markdown",
   "metadata": {},
   "source": [
    "# Viz"
   ]
  },
  {
   "cell_type": "code",
   "execution_count": null,
   "metadata": {},
   "outputs": [],
   "source": [
    "# VIZ\n",
    "df = pd.read_csv(\"refiRates.csv\")"
   ]
  },
  {
   "cell_type": "code",
   "execution_count": null,
   "metadata": {},
   "outputs": [],
   "source": [
    "df['Affinity Plus'] = df['Affinity Plus'].apply(lambda x: float(x.replace(\"%\", \"\")))\n",
    "df['Rocket Mortgage'] = df['Rocket Mortgage'].apply(lambda x: float(x.replace(\"%\", \"\")))\n",
    "df['Blaze Credit Union'] = df['Blaze Credit Union'].apply(lambda x: float(x.replace(\"%\", \"\")))\n",
    "df['Magnifi'] = df['Magnifi'].apply(lambda x: float(x.replace(\"%\", \"\")))"
   ]
  },
  {
   "cell_type": "code",
   "execution_count": null,
   "metadata": {},
   "outputs": [],
   "source": [
    "df.set_index('Date', inplace = True)"
   ]
  },
  {
   "cell_type": "code",
   "execution_count": null,
   "metadata": {},
   "outputs": [],
   "source": [
    "df.plot(kind = 'line', x = 'Date', figsize = (10,6))\n",
    "plt.xticks(range(len(df['Date'])), df['Date'])\n",
    "plt.xticks(rotation = 60, ha = 'right')\n",
    "plt.title(\"Mortgage Rates (Refinance) from 4 Minnesota Lenders\")\n",
    "plt.show()\n"
   ]
  },
  {
   "cell_type": "code",
   "execution_count": null,
   "metadata": {},
   "outputs": [],
   "source": []
  }
 ],
 "metadata": {
  "kernelspec": {
   "display_name": "3.11.8",
   "language": "python",
   "name": "python3"
  },
  "language_info": {
   "codemirror_mode": {
    "name": "ipython",
    "version": 3
   },
   "file_extension": ".py",
   "mimetype": "text/x-python",
   "name": "python",
   "nbconvert_exporter": "python",
   "pygments_lexer": "ipython3",
   "version": "3.11.8"
  }
 },
 "nbformat": 4,
 "nbformat_minor": 2
}
